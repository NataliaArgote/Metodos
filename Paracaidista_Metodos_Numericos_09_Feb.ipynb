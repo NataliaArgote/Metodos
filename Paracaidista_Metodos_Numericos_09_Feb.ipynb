{
 "cells": [
  {
   "cell_type": "code",
   "execution_count": 2,
   "metadata": {
    "collapsed": false
   },
   "outputs": [
    {
     "name": "stdout",
     "output_type": "stream",
     "text": [
      "2 - 19.600000\n",
      "4 - 32.004699\n",
      "6 - 39.855544\n",
      "8 - 44.824287\n",
      "10 - 47.968969\n",
      "12 - 49.959215\n",
      "14 - 51.218828\n",
      "16 - 52.016028\n",
      "18 - 52.520570\n",
      "20 - 52.839891\n",
      "22 - 53.041987\n",
      "24 - 53.169892\n",
      "26 - 53.250842\n",
      "28 - 53.302075\n",
      "30 - 53.334500\n",
      "32 - 53.355021\n",
      "34 - 53.368009\n",
      "36 - 53.376229\n",
      "38 - 53.381431\n",
      "40 - 53.384724\n",
      "42 - 53.386808\n",
      "44 - 53.388126\n",
      "46 - 53.388961\n",
      "48 - 53.389489\n",
      "50 - 53.389824\n",
      "52 - 53.390035\n",
      "54 - 53.390169\n",
      "56 - 53.390254\n",
      "58 - 53.390308\n",
      "60 - 53.390341\n",
      "62 - 53.390363\n",
      "64 - 53.390377\n",
      "66 - 53.390385\n",
      "68 - 53.390391\n",
      "70 - 53.390394\n",
      "72 - 53.390396\n",
      "74 - 53.390398\n",
      "76 - 53.390398\n",
      "78 - 53.390399\n",
      "80 - 53.390399\n",
      "82 - 53.390400\n",
      "84 - 53.390400\n",
      "86 - 53.390400\n",
      "88 - 53.390400\n",
      "90 - 53.390400\n",
      "92 - 53.390400\n",
      "94 - 53.390400\n",
      "96 - 53.390400\n",
      "98 - 53.390400\n",
      "100 - 53.390400\n"
     ]
    },
    {
     "data": {
      "image/png": "[encoded data removed]",
      "text/plain": [
       "<matplotlib.figure.Figure at 0xa354eb8>"
      ]
     },
     "metadata": {},
     "output_type": "display_data"
    }
   ],
   "source": [
    "import matplotlib.pyplot as plt\n",
    "%matplotlib inline\n",
    "\n",
    "g = 9.8 \n",
    "m = 68.1\n",
    "c = 12.5\n",
    "t1 = 0 \n",
    "t2 = 2\n",
    "v= 0.0\n",
    "vel = 0.0\n",
    "listTiempo=[]\n",
    "listVel=[]\n",
    "\n",
    "for i in range (50):\n",
    "    v = vel +(g-(c/m)*vel)*(t2-t1)\n",
    "    print \"%d - %f\" %(t2,v)\n",
    "    vel=v\n",
    "    listVel.append(v)\n",
    "    t1=t2\n",
    "    listTiempo.append(t2)\n",
    "    t2=t1+2\n",
    "    \n",
    "plt.axis([0,100,0,100])\n",
    "plt.ylabel('Speed (m/s)')\n",
    "plt.xlabel('Time (s)')\n",
    "plt.plot(listTiempo, listVel)\n",
    "plt.show()\n",
    "    \n",
    "    \n",
    "    \n"
   ]
  },
  {
   "cell_type": "code",
   "execution_count": null,
   "metadata": {
    "collapsed": true
   },
   "outputs": [],
   "source": []
  }
 ],
 "metadata": {
  "kernelspec": {
   "display_name": "Python 2",
   "language": "python",
   "name": "python2"
  },
  "language_info": {
   "codemirror_mode": {
    "name": "ipython",
    "version": 2
   },
   "file_extension": ".py",
   "mimetype": "text/x-python",
   "name": "python",
   "nbconvert_exporter": "python",
   "pygments_lexer": "ipython2",
   "version": "2.7.11"
  }
 },
 "nbformat": 4,
 "nbformat_minor": 0
}
