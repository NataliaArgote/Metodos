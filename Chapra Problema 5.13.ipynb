{
 "cells": [
  {
   "cell_type": "markdown",
   "metadata": {},
   "source": [
    "# 5.13"
   ]
  },
  {
   "cell_type": "markdown",
   "metadata": {},
   "source": [
    "La velocidad v de un paracaidista que cae está dada por:\n",
    "v=(gm/c)(1- e^(-c/m)t) donde g = 9.8 m/s^2. Para un paracaidista con coeficiente de arrastre de c = 15 kg/s, calcule la masa m de modo que la velocidad sea v = 35 m/s en t = 9s. Utilice el método de la falsa posición para determinar m a un nivel de Es = 0.1%. "
   ]
  },
  {
   "cell_type": "code",
   "execution_count": 1,
   "metadata": {
    "collapsed": false
   },
   "outputs": [
    {
     "data": {
      "image/png": "[encoded data removed]",
      "text/plain": [
       "<matplotlib.figure.Figure at 0x9eaa6d8>"
      ]
     },
     "metadata": {},
     "output_type": "display_data"
    },
    {
     "name": "stdout",
     "output_type": "stream",
     "text": [
      "\n",
      "Por metodo de falsa posicion:\n",
      "\n",
      "|    f(m) | Erpv              | Ea                  |\n",
      "|--------:|:------------------|:--------------------|\n",
      "| 59.8462 | 0.0102245892037 % | ----- %             |\n",
      "| 59.8412 | 0.0185279400034 % | 0.00830488952462 %  |\n",
      "| 59.8411 | 0.0187960962029 % | 0.000268206611906 % |\n"
     ]
    }
   ],
   "source": [
    "import math\n",
    "from tabulate import tabulate\n",
    "import matplotlib.pyplot as plt\n",
    "%matplotlib inline\n",
    "\n",
    "g, c, v, t=9.8, 15.0, 35.0, 9.0\n",
    "Es=0.1\n",
    "f1,f2,f3=1.0,1.0,1.0\n",
    "table, valores, funcion, tabla, Eaprox, raices=[],[],[],[],[],[]\n",
    "xVerd=59.8523\n",
    "xl=55.0\n",
    "xu=60.0\n",
    "xr=0.0\n",
    "Es=0.001\n",
    "\n",
    "for i in range(-10, 200):\n",
    "    if(i==0):\n",
    "        continue\n",
    "    m=i\n",
    "    fmasa=((g*m)/c)*(1-math.pow(math.e,-(c/m)*t))-v\n",
    "    if(m>0 and m%4==0):\n",
    "        valores.append(m)\n",
    "        funcion.append(fmasa)\n",
    "        #tabla.append([m, fmasa])\n",
    "        \n",
    "def resultado(m):\n",
    "    fm=((g*m)/c)*(1-math.pow(math.e,(-c/m)*t))-v\n",
    "    return fm\n",
    "\n",
    "b=0\n",
    "while 1:\n",
    "    f1=resultado(xl)\n",
    "    f2=resultado(xu)\n",
    "    xr=xu-(f2*(xl-xu))/(f1-f2)\n",
    "    raices.append(xr)\n",
    "    f3=resultado(xr)\n",
    "    erpv=math.fabs(((xVerd-xr)/xVerd)*100)\n",
    "    if(b==0):\n",
    "        Eaprox.append(\"-----\")\n",
    "        eaprx=100\n",
    "    else:\n",
    "        k=b-1\n",
    "        eaprx=math.fabs(((raices[b]-raices[k])/raices[b])*100)\n",
    "        Eaprox.append(eaprx)\n",
    "    table.append([xr, str(erpv)+\" %\", str(Eaprox[b])+\" %\"])\n",
    "    if ((f1*f3)<0):\n",
    "        xu=xr\n",
    "    if((f1*f3)>0):\n",
    "         xl=xr \n",
    "    if(eaprx<Es):\n",
    "        break\n",
    "    b+=1   \n",
    "plt.title(\"MASA\")\n",
    "plt.axis([0, 250, -50, 50])\n",
    "plt.ylabel('f(m)')\n",
    "plt.xlabel('m')\n",
    "plt.axhline(0, color=\"black\")\n",
    "plt.plot(valores, funcion, 'r-', linewidth=2)\n",
    "plt.plot(xVerd,0, 'gs', label='Raiz Exacta=59.8523')\n",
    "plt.legend(loc = 'upper right', numpoints = 1)\n",
    "plt.show()\n",
    "\n",
    "print \"\\nPor metodo de falsa posicion:\\n\"\n",
    "print tabulate(table, headers=[\"f(m)\",\"Erpv\",\"Ea\"], tablefmt=\"pipe\")"
   ]
  },
  {
   "cell_type": "code",
   "execution_count": null,
   "metadata": {
    "collapsed": true
   },
   "outputs": [],
   "source": []
  }
 ],
 "metadata": {
  "kernelspec": {
   "display_name": "Python 2",
   "language": "python",
   "name": "python2"
  },
  "language_info": {
   "codemirror_mode": {
    "name": "ipython",
    "version": 2
   },
   "file_extension": ".py",
   "mimetype": "text/x-python",
   "name": "python",
   "nbconvert_exporter": "python",
   "pygments_lexer": "ipython2",
   "version": "2.7.11"
  }
 },
 "nbformat": 4,
 "nbformat_minor": 0
}
