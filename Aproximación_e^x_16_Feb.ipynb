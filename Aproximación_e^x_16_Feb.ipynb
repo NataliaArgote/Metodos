{
 "cells": [
  {
   "cell_type": "code",
   "execution_count": 1,
   "metadata": {
    "collapsed": false
   },
   "outputs": [
    {
     "name": "stdout",
     "output_type": "stream",
     "text": [
      "El error tolerado es de: 0.05 %\n",
      "El valor verdadero de e^(0.5) es: 1.64872\n",
      "\n",
      "  Aproximación de euler^(0.5) por series de Maclaurin               \n",
      "\n",
      "  Termino    Valor Aproximado    Err. Porc    Err. Aprox\n",
      "---------  ------------------  -----------  ------------\n",
      "        1             1        39.3469       100\n",
      "        2             1.5       9.0204        33.3333\n",
      "        3             1.625     1.43877        7.69231\n",
      "        4             1.64583   0.175162       1.26582\n",
      "        5             1.64844   0.0172116      0.157978\n",
      "        6             1.6487    0.00141649     0.0157953\n"
     ]
    }
   ],
   "source": [
    "import math \n",
    "from tabulate import tabulate\n",
    "\n",
    "Es = (0.5*math.pow(10,(-1)))\n",
    "value, value2, ant, Eaprx, Erpv, x= 0.0, 0.0, 0.0, 0.0, 0.0, 0.5\n",
    "valVer = math.pow(math.e, (x))\n",
    "i = 0\n",
    "tab, valAprx, Ev, Epv, Ea, ant= [], [], [],[], [], []\n",
    "print \"El error tolerado es de: %.2f\"%Es+\" %\"\n",
    "print \"El valor verdadero de e^(0.5) es: %.5f\" %valVer+\"\\n\"\n",
    "\n",
    "while 1:\n",
    "    value = (math.pow(x, i))/math.factorial(i)\n",
    "    valueAnt=value2\n",
    "    ant.append(valueAnt)\n",
    "    value2+=value\n",
    "    valAprx.append(value2)\n",
    "    #Error verdadero\n",
    "    Erv=math.fabs(valVer-valAprx[i])\n",
    "    Ev.append(Erv)\n",
    "    #Error relativo porcentual verdadero\n",
    "    Erpv=(Ev[i]/valVer)*100\n",
    "    Epv.append(Erpv)\n",
    "    #Error aproximado\n",
    "    j=i-1\n",
    "    Eaprx=math.fabs(((valAprx[i]-ant[i])/valAprx[i])*100)\n",
    "    Ea.append(Eaprx)\n",
    "    #Mostrando en tablas \n",
    "    tab.append([i+1,valAprx[i],Epv[i],Eaprx])\n",
    "    i+=1\n",
    "    if(Eaprx<Es):\n",
    "        break\n",
    "\n",
    "print \"  Aproximación de euler^(0.5) por series de Maclaurin               \\n\"\n",
    "print tabulate(tab,headers=[\"Termino\",\"Valor Aproximado\", \"Err. Porc\", \"Err. Aprox\"])\n"
   ]
  },
  {
   "cell_type": "code",
   "execution_count": null,
   "metadata": {
    "collapsed": true
   },
   "outputs": [],
   "source": []
  }
 ],
 "metadata": {
  "kernelspec": {
   "display_name": "Python 2",
   "language": "python",
   "name": "python2"
  },
  "language_info": {
   "codemirror_mode": {
    "name": "ipython",
    "version": 2
   },
   "file_extension": ".py",
   "mimetype": "text/x-python",
   "name": "python",
   "nbconvert_exporter": "python",
   "pygments_lexer": "ipython2",
   "version": "2.7.11"
  }
 },
 "nbformat": 4,
 "nbformat_minor": 0
}
