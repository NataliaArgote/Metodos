{
 "cells": [
  {
   "cell_type": "markdown",
   "metadata": {},
   "source": [
    "# Taller Chapra 3.5 - Aproximación e^(-5)"
   ]
  },
  {
   "cell_type": "code",
   "execution_count": 1,
   "metadata": {
    "collapsed": false
   },
   "outputs": [
    {
     "name": "stdout",
     "output_type": "stream",
     "text": [
      "                                    Aproximación de euler^(-5) por series de Maclaurin               \n",
      "\n",
      "  Termino    Valor Aprx-Metodo 1      Err. Porc    Err. Aprox    Valor Aprx-Metodo2       Err. Porc2       Err. Aprox2\n",
      "---------  ---------------------  -------------  ------------  --------------------  ---------------  ----------------\n",
      "        1             1            14741.3          100                  1           14741.3             100\n",
      "        2            -4            59465.3          125                  0.166667     2373.55            500\n",
      "        3             8.5         126051            147.059              0.0540541     702.233         11000\n",
      "        4           -12.3333      183143            168.919              0.0254237     277.322         72666.7\n",
      "        5            13.7083      203350            189.97               0.0152964     127.018        257042\n",
      "        6           -12.3333      183143            211.149              0.0109389      62.348        597536\n",
      "        7             9.36806     138934            231.653              0.00884032     31.202             1.03399e+06\n",
      "        8            -6.13294      91120.8          252.75               0.0077749      15.3897            1.45481e+06\n",
      "        9             3.55518      52663.6          272.507              0.00723028      7.30692           1.77879e+06\n",
      "       10            -1.82711      27216.6          294.58               0.00695945      3.28744           1.98723e+06\n",
      "       11             0.864039     12723.5          311.461              0.00683151      1.38854           2.10323e+06\n",
      "       12            -0.359208      5431.13         340.54               0.00677489      0.548299          2.16053e+06\n",
      "       13             0.150478      2133.29         338.712              0.00675158      0.202294          2.18611e+06\n",
      "       14            -0.0455552      776.099        430.32               0.00674265      0.0698478         2.19657e+06\n",
      "       15             0.0244567      262.969        286.269              0.00673947      0.0226305         2.20051e+06\n",
      "       16             0.00111938      83.3869      2084.84               0.00673841      0.0069013         2.2019e+06\n",
      "       17             0.00841228      24.8494        86.6935             0.00673808      0.00198694        2.20235e+06\n",
      "       18             0.00626731       6.98485       34.2247             0.00673798      0.000541637       2.20249e+06\n",
      "       19             0.00686314       1.85799        8.68153            0.00673796      0.00014017        2.20253e+06\n",
      "       20             0.00670634       0.469074       2.33803            0.00673795      3.45214e-05       2.20254e+06\n"
     ]
    }
   ],
   "source": [
    "import math \n",
    "from tabulate import tabulate\n",
    "\n",
    "x = 5\n",
    "n=1\n",
    "valorReal = math.pow(math.e, (-x))\n",
    "value, value2, valueMet2, valMet2 = 0.0, 0.0, 0.0, 0.0\n",
    "ant = []\n",
    "valAprx = []\n",
    "Ev = []\n",
    "Epv= []\n",
    "Ea = []\n",
    "tab = []\n",
    "ant2=[]\n",
    "valAprx2 = []\n",
    "Ev2 = []\n",
    "Epv2 = []\n",
    "Ea2 = []\n",
    "for i in range (0, 20):\n",
    "    #Valor exponencial negativo\n",
    "    if(i%2==0):\n",
    "        value = (math.pow(x, i))/math.factorial(i)\n",
    "        valueAnt = value2\n",
    "        value2+=value\n",
    "        ant.append(valueAnt)\n",
    "        valAprx.append(value2)\n",
    "    else:\n",
    "        value = (math.pow(x, i))/math.factorial(i)\n",
    "        valueAnt = value2\n",
    "        value2-=value\n",
    "        ant.append(valueAnt)\n",
    "        valAprx.append(value2)\n",
    "    #Error verdadero\n",
    "    Erv=math.fabs(valorReal-valAprx[i])\n",
    "    Ev.append(Erv)\n",
    "    #Error relativo porcentual verdadero\n",
    "    Erpv=math.fabs((Ev[i]/valorReal)*100)\n",
    "    Epv.append(Erpv)\n",
    "    #Error aproximado\n",
    "    Eaprx=math.fabs(((valAprx[i]-ant[i])/valAprx[i])*100)\n",
    "    Ea.append(Eaprx)\n",
    "   \n",
    "    #Metodo 2\n",
    "    valueMet2 = (math.pow(x, i))/math.factorial(i)\n",
    "    #valueMet22 = n/valueMet2\n",
    "    valueAnt2=valMet2\n",
    "    ant2.append(valueAnt2)\n",
    "    valMet2+=valueMet2\n",
    "    valueMet22=n/valMet2\n",
    "    valAprx2.append(valueMet22)\n",
    "    #Error verdadero\n",
    "    Erv2=math.fabs(valorReal-valAprx2[i])\n",
    "    Ev2.append(Erv2)\n",
    "    #Error relativo porcentual verdadero\n",
    "    Erpv2=(Ev2[i]/valorReal)*100\n",
    "    Epv2.append(Erpv2)\n",
    "    #Error aproximado\n",
    "    Eaprx2=math.fabs(((valAprx2[i]-ant2[i])/valAprx2[i])*100)\n",
    "    Ea2.append(Eaprx2)\n",
    "    #Mostrando en tablas \n",
    "    tab.append([i+1,valAprx[i],Epv[i],Eaprx, valAprx2[i],Epv2[i], Eaprx2])\n",
    "\n",
    "print \"                                    Aproximación de euler^(-5) por series de Maclaurin               \\n\"\n",
    "print tabulate(tab,headers=[\"Termino\",\"Valor Aprx-Metodo 1\", \"Err. Porc\", \"Err. Aprox\", \"Valor Aprx-Metodo2\", \"Err. Porc2\", \"Err. Aprox2\"])"
   ]
  },
  {
   "cell_type": "code",
   "execution_count": null,
   "metadata": {
    "collapsed": true
   },
   "outputs": [],
   "source": []
  }
 ],
 "metadata": {
  "kernelspec": {
   "display_name": "Python 2",
   "language": "python",
   "name": "python2"
  },
  "language_info": {
   "codemirror_mode": {
    "name": "ipython",
    "version": 2
   },
   "file_extension": ".py",
   "mimetype": "text/x-python",
   "name": "python",
   "nbconvert_exporter": "python",
   "pygments_lexer": "ipython2",
   "version": "2.7.11"
  }
 },
 "nbformat": 4,
 "nbformat_minor": 0
}
