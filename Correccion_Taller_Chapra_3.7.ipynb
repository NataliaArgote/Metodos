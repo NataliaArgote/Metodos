{
 "cells": [
  {
   "cell_type": "code",
   "execution_count": 19,
   "metadata": {
    "collapsed": false
   },
   "outputs": [
    {
     "name": "stdout",
     "output_type": "stream",
     "text": [
      "  Valor1 Real    Valor1 corte  Error1             Valor2 Real    Valor2 corte  Error2\n",
      "-------------  --------------  ---------------  -------------  --------------  ---------------\n",
      "     0.743053           0.743  25.6875672652 %       0.743053           0.743  25.6875672652 %\n",
      "\n",
      "CONCLUSION: LOS RESULTADOS ENTRE AMBAS FUNCIONES TIENEN EL MISMO VALOR Y POR LO TANTO EXISTIRA EL MISMO ERROR ENTRE\n",
      "LOS RESPECTIVOS VALORES VERDADEROS Y LOS VALORES CON  CORTE DE 3 DIGITOS. ESTO QUIERE DECIR QUE NO AFECTO EN NADA\n",
      "LA FACTORIZACION DE LA VARIABLE X\n",
      "\n"
     ]
    }
   ],
   "source": [
    "import math\n",
    "from tabulate import tabulate\n",
    "\n",
    "x=1.37\n",
    "tabla=[]\n",
    "#Primera formula\n",
    "y1a=math.pow(x,3)-(7*(math.pow(x,2)))+(8*x)+0.35\n",
    "nowya=float(format(y1a, '.3g'))\n",
    "Erpv1=math.fabs((y1a-nowya/y1a)*100)\n",
    "\n",
    "#Segunda formula\n",
    "y2a=((((x-7)*x)+8)*x)+0.35\n",
    "nowya2=float(format(y2a, '.3g'))\n",
    "Erpv2=math.fabs((y2a-nowya2/y2a)*100)\n",
    "\n",
    "tabla.append([y1a, nowya,str(Erpv1)+\" %\", y2a, nowya2, str(Erpv2)+\" %\"])\n",
    "print tabulate(tabla, headers=[\"Valor1 Real\", \"Valor1 corte\",\"Error1\", \"Valor2 Real\", \"Valor2 corte\", \"Error2\"])\n",
    "print \"\\nCONCLUSION: LOS RESULTADOS ENTRE AMBAS FUNCIONES TIENEN EL MISMO VALOR Y POR LO TANTO EXISTIRA EL MISMO ERROR ENTRE\\nLOS RESPECTIVOS VALORES VERDADEROS Y LOS VALORES CON  CORTE DE 3 DIGITOS. ESTO QUIERE DECIR QUE NO AFECTO EN NADA\\nLA FACTORIZACION DE LA VARIABLE X\\n\""
   ]
  },
  {
   "cell_type": "code",
   "execution_count": null,
   "metadata": {
    "collapsed": true
   },
   "outputs": [],
   "source": []
  }
 ],
 "metadata": {
  "kernelspec": {
   "display_name": "Python 2",
   "language": "python",
   "name": "python2"
  },
  "language_info": {
   "codemirror_mode": {
    "name": "ipython",
    "version": 2
   },
   "file_extension": ".py",
   "mimetype": "text/x-python",
   "name": "python",
   "nbconvert_exporter": "python",
   "pygments_lexer": "ipython2",
   "version": "2.7.11"
  }
 },
 "nbformat": 4,
 "nbformat_minor": 0
}
