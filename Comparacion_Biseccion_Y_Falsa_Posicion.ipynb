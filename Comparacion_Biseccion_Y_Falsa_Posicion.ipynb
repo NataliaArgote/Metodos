{
 "cells": [
  {
   "cell_type": "markdown",
   "metadata": {},
   "source": [
    "# Comparación de error relativo porcentual verdadero"
   ]
  },
  {
   "cell_type": "markdown",
   "metadata": {},
   "source": [
    "Compare el desempeño del error relativo porcentual verdadero de los métodos de bisección y falsa posición."
   ]
  },
  {
   "cell_type": "code",
   "execution_count": 21,
   "metadata": {
    "collapsed": false
   },
   "outputs": [
    {
     "name": "stdout",
     "output_type": "stream",
     "text": [
      "|   Iteracion | Error Biseccion     | Error Falsa Posicion   |   Diferencia |\n",
      "|------------:|:--------------------|:-----------------------|-------------:|\n",
      "|           1 | 5.27868364433 %     | 0.887018978808 %       |  4.39166     |\n",
      "|           2 | 1.48712466678 %     | 0.0946724895539 %      |  1.39245     |\n",
      "|           3 | 1.89577948878 %     | 0.0101171697496 %      |  1.88566     |\n",
      "|           4 | 0.204327410996 %    | 0.00110176456332 %     |  0.203226    |\n",
      "|           5 | 0.641398627894 %    | 0.000140619920844 %    |  0.641258    |\n",
      "|           6 | 0.218535608449 %    | 3.81520066919e-05 %    |  0.218497    |\n",
      "|           7 | 0.00710409872667 %  | 2.72278837952e-05 %    |  0.00707687  |\n",
      "|           8 | 0.0986116561346 %   | 2.60632612035e-05 %    |  0.0985856   |\n",
      "|           9 | 0.0457537787039 %   | 2.59391005643e-05 %    |  0.0457278   |\n",
      "|          10 | 0.0193248399886 %   | 2.59258638082e-05 %    |  0.0192989   |\n",
      "|          11 | 0.00611037063098 %  | 2.59244526211e-05 %    |  0.00608445  |\n",
      "|          12 | 0.000496864047843 % | 2.59243021737e-05 %    |  0.00047094  |\n",
      "|          13 | 0.00280675329157 %  | 2.5924286141e-05 %     |  0.00278083  |\n",
      "|          14 | 0.00115494462186 %  | 2.59242844224e-05 %    |  0.00112902  |\n",
      "|          15 | 0.00032904028701 %  | 2.59242842421e-05 %    |  0.000303116 |\n",
      "|          16 | 8.39118804166e-05 % | 2.59242842181e-05 %    |  5.79876e-05 |\n"
     ]
    },
    {
     "data": {
      "image/png": "[encoded data removed]",
      "text/plain": [
       "<matplotlib.figure.Figure at 0x27dfde80>"
      ]
     },
     "metadata": {},
     "output_type": "display_data"
    },
    {
     "name": "stdout",
     "output_type": "stream",
     "text": [
      "El método de falsa posición es más exacto que el de bisección, pues el error relativo porcentual verdadero del primero es mucho menor\n"
     ]
    }
   ],
   "source": [
    "import math\n",
    "from tabulate import tabulate\n",
    "import matplotlib.pyplot as plt\n",
    "%matplotlib inline\n",
    "\n",
    "xVerd=14.7802\n",
    "m, g, v, t, xl, xu, xr, fA, fB, f1, f2, f3, xl2, xu2, xr2=68.1, 9.8, 40.0, 10.0, 12.0, 16.0, 0.0, 1.0, 1.0, 1.0, 1.0, 1.0, 12.0, 16.0, 0.0\n",
    "Error1, Error2, tabla, contador, aux1, aux2=[],[],[], [], [],[]\n",
    "cont=0\n",
    "\n",
    "def metodo1(num):\n",
    "    fc=((g*m)/num)*(1-math.exp(-(num/68.1)*10.0))-v\n",
    "    return fc\n",
    "    \n",
    "while ((fA*fB)!=0):\n",
    "    xr=(xl+xu)/2\n",
    "    fA=metodo1(xl)\n",
    "    fB=metodo1(xr)\n",
    "    erpv=math.fabs(((xVerd-xr)/xVerd)*100)\n",
    "    Error1.append(erpv)\n",
    "    if ((fA*fB)<0):\n",
    "        xu=xr\n",
    "    if((fA*fB)>0):\n",
    "         xl=xr   \n",
    "\n",
    "while ((f1*f3)!=0):\n",
    "    f1=metodo1(xl2)\n",
    "    f2=metodo1(xu2)\n",
    "    xr2=xu2-(f2*(xl2-xu2))/(f1-f2)\n",
    "    f3=metodo1(xr2)\n",
    "    erpv2=math.fabs(((xVerd-xr2)/xVerd)*100)\n",
    "    Error2.append(erpv2)\n",
    "    if ((f1*f3)<0):\n",
    "        xu2=xr2\n",
    "    if((f1*f3)>0):\n",
    "         xl2=xr2 \n",
    "\n",
    "for d in range (len(Error2)):\n",
    "    diferencia=Error1[d]-Error2[d]\n",
    "    cont+=1\n",
    "    contador.append(cont)\n",
    "    aux1.append(Error1[d])\n",
    "    aux2.append(Error2[d])\n",
    "    tabla.append([cont, str(Error1[d])+\" %\", str(Error2[d])+\" %\", diferencia])\n",
    "\n",
    "print tabulate(tabla, headers=[\"Iteracion\", \"Error Biseccion\", \"Error Falsa Posicion\", \"Diferencia\"], tablefmt=\"pipe\")\n",
    "\n",
    "plt.title(\"COMPARACION ERRORES\")\n",
    "plt.axis([0, 17, 0, 7])\n",
    "plt.ylabel('Errores relativo porcentual verdadero')\n",
    "plt.xlabel('Iteracion')\n",
    "plt.plot(contador, aux1, 'b-', label=\"Error Biseccion\")\n",
    "plt.plot(contador, aux2, 'r-', label=\"Error Falsa Posicion\")\n",
    "plt.legend(loc = 'upper right', numpoints = 2)\n",
    "plt.show()\n",
    "\n",
    "print \"El método de falsa posición es más exacto que el de bisección, pues el error relativo porcentual verdadero del primero es mucho menor\""
   ]
  },
  {
   "cell_type": "code",
   "execution_count": null,
   "metadata": {
    "collapsed": true
   },
   "outputs": [],
   "source": []
  }
 ],
 "metadata": {
  "kernelspec": {
   "display_name": "Python 2",
   "language": "python",
   "name": "python2"
  },
  "language_info": {
   "codemirror_mode": {
    "name": "ipython",
    "version": 2
   },
   "file_extension": ".py",
   "mimetype": "text/x-python",
   "name": "python",
   "nbconvert_exporter": "python",
   "pygments_lexer": "ipython2",
   "version": "2.7.11"
  }
 },
 "nbformat": 4,
 "nbformat_minor": 0
}
