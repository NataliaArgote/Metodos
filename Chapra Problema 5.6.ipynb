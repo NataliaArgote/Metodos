{
 "cells": [
  {
   "cell_type": "markdown",
   "metadata": {},
   "source": [
    "# 5.6"
   ]
  },
  {
   "cell_type": "markdown",
   "metadata": {},
   "source": [
    "Determine la raíz real de ln(x^2) = 0.7:\n",
    "a)Gráﬁcamente \n",
    "b)Empleando tres iteraciones en el método de bisección con los valores iniciales xl = 0.5 y xu = 2  \n",
    "c)Usando tres iteraciones del método de la falsa posición, con los mismos valores iniciales de b).\n"
   ]
  },
  {
   "cell_type": "code",
   "execution_count": 1,
   "metadata": {
    "collapsed": false
   },
   "outputs": [
    {
     "data": {
      "image/png": "[encoded data removed]",
      "text/plain": [
       "<matplotlib.figure.Figure at 0xa27cba8>"
      ]
     },
     "metadata": {},
     "output_type": "display_data"
    },
    {
     "name": "stdout",
     "output_type": "stream",
     "text": [
      "╒════════╤═════════════╤══════════════════╕\n",
      "│   Iter │   Biseccion │   Falsa Posicion │\n",
      "╞════════╪═════════════╪══════════════════╡\n",
      "│      1 │      1.25   │          1.25    │\n",
      "├────────┼─────────────┼──────────────────┤\n",
      "│      2 │      0.875  │          1.06735 │\n",
      "├────────┼─────────────┼──────────────────┤\n",
      "│      3 │      1.0625 │          1.01859 │\n",
      "╘════════╧═════════════╧══════════════════╛\n"
     ]
    }
   ],
   "source": [
    "import math\n",
    "import matplotlib.pyplot as plt\n",
    "from tabulate import tabulate \n",
    "%matplotlib inline\n",
    "\n",
    "raizReal=1.41906\n",
    "result=0.7\n",
    "xl, xu, xr=0.5, 2.0, 0.0\n",
    "xl2, xu2, xr=0.5,2.0,0.0\n",
    "cont=-2\n",
    "evaluar, valores, tabla1, aux1, aux2, tabla2=[],[], [], [],[],[]\n",
    "fA=1.0\n",
    "fB=1.0\n",
    "f1=1.0\n",
    "f2=1.0\n",
    "f3=1.0\n",
    "\n",
    "while(cont<=2):\n",
    "    x=math.pow(cont, 2)\n",
    "    now=math.log(x)\n",
    "    evaluar.append(now)\n",
    "    valores.append(cont)\n",
    "    tabla1.append([cont,now])\n",
    "    cont+=0.02\n",
    "\n",
    "def metodo1(value):\n",
    "    arg=math.pow(value, 2)\n",
    "    ln=math.log(arg)\n",
    "    return ln\n",
    "a=1   \n",
    "while (a<4):\n",
    "    xr=(xl+xu)/2\n",
    "    aux1.append(xr)\n",
    "    fA=metodo1(xl)\n",
    "    fB=metodo1(xr)\n",
    "    if ((fA*fB)<0):\n",
    "        xu=xr\n",
    "    if((fA*fB)>0):\n",
    "         xl=xr\n",
    "    a+=1\n",
    "    \n",
    "b=1  \n",
    "while (b<4):\n",
    "    f1=metodo1(xl2)\n",
    "    f2=metodo1(xu2)\n",
    "    xr2=xu2-(f2*(xl2-xu2))/(f1-f2)\n",
    "    aux2.append(xr2)\n",
    "    f3=metodo1(xr2)\n",
    "    if ((f1*f3)<0):\n",
    "        xu2=xr2\n",
    "    if((f1*f3)>0):\n",
    "         xl2=xr2 \n",
    "    b+=1 \n",
    "\n",
    "for i in range(0,3):\n",
    "    tabla2.append([i+1,aux1[i], aux2[i]])\n",
    "\n",
    "plt.title(\"Logaritmo\")\n",
    "plt.axis([0, 2, -2, 4])\n",
    "plt.ylabel('ln(x^2)')\n",
    "plt.xlabel('x')\n",
    "plt.axhline(0, color=\"black\")\n",
    "plt.plot(valores, evaluar, 'm-', linewidth=2)\n",
    "plt.plot(raizReal,0.7, 'co', label='X exacta=1.41907',linewidth=2)\n",
    "plt.legend(loc = 'upper right', numpoints = 1)\n",
    "plt.show()\n",
    "\n",
    "print tabulate(tabla2, headers=[\"Iter\",\"Biseccion\",\"Falsa Posicion\"], tablefmt=\"fancy_grid\")"
   ]
  },
  {
   "cell_type": "code",
   "execution_count": null,
   "metadata": {
    "collapsed": true
   },
   "outputs": [],
   "source": []
  }
 ],
 "metadata": {
  "kernelspec": {
   "display_name": "Python 2",
   "language": "python",
   "name": "python2"
  },
  "language_info": {
   "codemirror_mode": {
    "name": "ipython",
    "version": 2
   },
   "file_extension": ".py",
   "mimetype": "text/x-python",
   "name": "python",
   "nbconvert_exporter": "python",
   "pygments_lexer": "ipython2",
   "version": "2.7.11"
  }
 },
 "nbformat": 4,
 "nbformat_minor": 0
}
