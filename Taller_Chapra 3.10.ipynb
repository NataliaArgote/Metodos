{
 "cells": [
  {
   "cell_type": "markdown",
   "metadata": {},
   "source": [
    "# Taller Chapra 3.10 - Ecuación cuadrática"
   ]
  },
  {
   "cell_type": "code",
   "execution_count": 9,
   "metadata": {
    "collapsed": false
   },
   "outputs": [
    {
     "name": "stdout",
     "output_type": "stream",
     "text": [
      "X1= 5000.000000 and X2= 0.002000\n",
      "X1= 5000.000000 and X2= 0.002000\n",
      "\n",
      "\n",
      "  Metodo1    Metodo2\n",
      "---------  ---------\n",
      "     5000      0.002\n",
      "     5000      0.002\n"
     ]
    }
   ],
   "source": [
    "import math\n",
    "from tabulate import tabulate \n",
    "\n",
    "a=1\n",
    "b=-5000.002\n",
    "c=10\n",
    "disc=math.pow(b,2)-4*a*c\n",
    "metodo1, metodo2, tabla=[], [], []\n",
    "\n",
    "#Método 1-fórmula 3.12  \n",
    "if(disc<0):\n",
    "    print \"Tiene raices imaginarias\"\n",
    "else:\n",
    "    x1=(-b+math.sqrt(disc))/(2*a) \n",
    "    x2=(-b-math.sqrt(disc))/(2*a)  \n",
    "    print \"X1= %f and X2= %f\" %(round(x1,5),round(x2,5))  \n",
    "metodo1.append(x1)\n",
    "metodo1.append(x2)\n",
    "\n",
    "#Método 2-fórmula 3.13\n",
    "xb1=(-2*c)/(b+math.sqrt(disc))\n",
    "xb2=(-2*c)/(b-math.sqrt(disc))\n",
    "print \"X1= %f and X2= %f\" %(round(xb1,5),round(xb2,5)) \n",
    "metodo2.append(xb1)\n",
    "metodo2.append(xb2)\n",
    "\n",
    "tabla=([metodo1[0:],metodo2[0:]])\n",
    "print\"\\n\"\n",
    "print tabulate(tabla, headers=[\"Metodo1\", \"Metodo2\"])"
   ]
  },
  {
   "cell_type": "code",
   "execution_count": null,
   "metadata": {
    "collapsed": true
   },
   "outputs": [],
   "source": []
  }
 ],
 "metadata": {
  "kernelspec": {
   "display_name": "Python 2",
   "language": "python",
   "name": "python2"
  },
  "language_info": {
   "codemirror_mode": {
    "name": "ipython",
    "version": 2
   },
   "file_extension": ".py",
   "mimetype": "text/x-python",
   "name": "python",
   "nbconvert_exporter": "python",
   "pygments_lexer": "ipython2",
   "version": "2.7.11"
  }
 },
 "nbformat": 4,
 "nbformat_minor": 0
}
