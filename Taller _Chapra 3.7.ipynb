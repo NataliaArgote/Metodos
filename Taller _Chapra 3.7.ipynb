{
 "cells": [
  {
   "cell_type": "markdown",
   "metadata": {},
   "source": [
    "# Taller Chapra 3.7 - Evaluar el polinomio"
   ]
  },
  {
   "cell_type": "code",
   "execution_count": 56,
   "metadata": {
    "collapsed": false
   },
   "outputs": [
    {
     "name": "stdout",
     "output_type": "stream",
     "text": [
      "a)PRIMERA FUNCION: y = x^3 – 7x^2 + 8x + 0.35\n",
      "b)SEGUNDA FUNCION: y = [(x – 7)x + 8]x + 0.35\n",
      "\n",
      "       A      B      C    Erpv1 %         D      E      F    Erpv2\n",
      "--------  -----  -----  ---------  --------  -----  -----  -------\n",
      "0.743053  0.743  0.741    100.007  0.743053  0.743  0.743  100.007\n",
      "\n",
      "A. Funcion 1-Sin redondear\n",
      "B. Funcion 1-Redondeando al final\n",
      "C. Funcion 1-Redondeando sumando a sumando\n",
      "Erpv1. Error relativo porcentual entre el valor sin redondear y el valor redondeando al final\n",
      "D. Funcion 2-Sin redondear\n",
      "E. Funcion 2-Redondeando al final\n",
      "F. Funcion 2-Redondeando sumando a sumando\n",
      "Erpv2. Error relativo porcentual de la segunda funcion entre el valor sin redondear y el valor redondeando al final\n",
      "\n",
      "\n",
      "CONCLUSION: LOS RESULTADOS PARA LA SEGUNDA FUNCION SON MÁS EXACTOS EN TODOS LOS CASOS DE REDONDEO, QUE LOS RESULTADOS DE LA PRIMERA FUNCION\n",
      "\n"
     ]
    }
   ],
   "source": [
    "#a)PRIMERA FUNCION: y = x^3 – 7x^2 + 8x + 0.35\n",
    "#b)SEGUNDA FUNCION: y = [(x – 7)x + 8]x + 0.35\n",
    "import math\n",
    "from tabulate import tabulate\n",
    "\n",
    "x=1.37\n",
    "tabla=[]\n",
    "#Primera función\n",
    "#Sin redondear\n",
    "y1a=math.pow(x,3)-(7*(math.pow(x,2)))+(8*x)+0.35\n",
    "#Redondeando al final\n",
    "y1b=math.pow(x,3)-(7*(math.pow(x,2)))+(8*x)+0.35\n",
    "y1b=round(y1, 3)\n",
    "#Redondeando sumando a sumando\n",
    "y1c=round(math.pow(x,3), 3)- round((7*math.pow(x,2)), 2)+round((8*x),3)+0.35\n",
    "Erpv1=(y1a/y1b)*100\n",
    "#Segunda función\n",
    "#Sin redondear\n",
    "y2a=((((x-7)*x)+8)*x)+0.35\n",
    "#Redondeando al final\n",
    "y2b=((((x-7)*x)+8)*x)+0.35\n",
    "y2b=round(y2a, 3)\n",
    "#Redondeando sumando a sumando\n",
    "y2c=round(((((x-7)*x)+8)*x),3)+0.35\n",
    "Erpv2=(y2a/y2b)*100\n",
    "tabla.append([y1a, y1b, y1c, Erpv1, y2a, y2b, y2c, Erpv2])\n",
    "print \"a)PRIMERA FUNCION: y = x^3 – 7x^2 + 8x + 0.35\\nb)SEGUNDA FUNCION: y = [(x – 7)x + 8]x + 0.35\\n\"\n",
    "print tabulate(tabla,headers=[\"A\",\"B\",\"C\",\"Erpv1 %\",\"D\",\"E\",\"F\",\"Erpv2\"])\n",
    "print \"\\nA. Funcion 1-Sin redondear\\nB. Funcion 1-Redondeando al final\\nC. Funcion 1-Redondeando sumando a sumando\\nErpv1. Error relativo porcentual entre el valor sin redondear y el valor redondeando al final\\nD. Funcion 2-Sin redondear\\nE. Funcion 2-Redondeando al final\\nF. Funcion 2-Redondeando sumando a sumando\\nErpv2. Error relativo porcentual de la segunda funcion entre el valor sin redondear y el valor redondeando al final\\n\"\n",
    "print \"\\nCONCLUSION: LOS RESULTADOS PARA LA SEGUNDA FUNCION SON MÁS EXACTOS EN TODOS LOS CASOS DE REDONDEO, QUE LOS RESULTADOS DE LA PRIMERA FUNCION\\n\""
   ]
  },
  {
   "cell_type": "code",
   "execution_count": null,
   "metadata": {
    "collapsed": true
   },
   "outputs": [],
   "source": []
  }
 ],
 "metadata": {
  "kernelspec": {
   "display_name": "Python 2",
   "language": "python",
   "name": "python2"
  },
  "language_info": {
   "codemirror_mode": {
    "name": "ipython",
    "version": 2
   },
   "file_extension": ".py",
   "mimetype": "text/x-python",
   "name": "python",
   "nbconvert_exporter": "python",
   "pygments_lexer": "ipython2",
   "version": "2.7.11"
  }
 },
 "nbformat": 4,
 "nbformat_minor": 0
}
