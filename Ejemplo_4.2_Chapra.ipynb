{
 "cells": [
  {
   "cell_type": "markdown",
   "metadata": {},
   "source": [
    "# Coseno por series de Taylor"
   ]
  },
  {
   "cell_type": "markdown",
   "metadata": {},
   "source": [
    "-Uso de la expansión de la serie de Taylor para aproximar una función con un número inﬁnito de derivadas.\n",
    "\n",
    "Planteamiento del problema: Utilice expansiones de la serie de Taylor con n desde 0 hasta 6 para aproximar f(x)=cosx en xi+1=π/3 con base en el valor de f(x) y sus derivadas en xi=π/4. Observe que esto significa que h=π/3–π/4 = π/12."
   ]
  },
  {
   "cell_type": "code",
   "execution_count": 20,
   "metadata": {
    "collapsed": false
   },
   "outputs": [
    {
     "name": "stdout",
     "output_type": "stream",
     "text": [
      "LA FUNCIÓN ORIGINAL ES: f(x) = cos(x)\n",
      "CON x=pi/3, SE TIENE QUE EL VALOR VERDADERO ES: f(pi/3)=0.5\n",
      "\n",
      "╒═════════╤══════════════════════╤═════════════╤═══════════════════════════════════════╕\n",
      "│   Orden │ Derivada n de f(x)   │     f(pi/3) │ Error relativo porcentual verdadero   │\n",
      "╞═════════╪══════════════════════╪═════════════╪═══════════════════════════════════════╡\n",
      "│       0 │ cos(x)               │ 0.707106781 │ 41.4213562373%                        │\n",
      "├─────────┼──────────────────────┼─────────────┼───────────────────────────────────────┤\n",
      "│       1 │ -sen(x)              │ 0.521986659 │ 4.39733175266%                        │\n",
      "├─────────┼──────────────────────┼─────────────┼───────────────────────────────────────┤\n",
      "│       2 │ -cos(x)              │ 0.497754491 │ 0.449101719315%                       │\n",
      "├─────────┼──────────────────────┼─────────────┼───────────────────────────────────────┤\n",
      "│       3 │ sen(x)               │ 0.499869147 │ 0.0261706139912%                      │\n",
      "├─────────┼──────────────────────┼─────────────┼───────────────────────────────────────┤\n",
      "│       4 │ cos(x)               │ 0.500007551 │ 0.00151016212255%                     │\n",
      "├─────────┼──────────────────────┼─────────────┼───────────────────────────────────────┤\n",
      "│       5 │ -sen(x)              │ 0.500000304 │ 6.08000744862e-05%                    │\n",
      "├─────────┼──────────────────────┼─────────────┼───────────────────────────────────────┤\n",
      "│       6 │ -cos(x)              │ 0.499999988 │ 2.44027499319e-06%                    │\n",
      "╘═════════╧══════════════════════╧═════════════╧═══════════════════════════════════════╛\n"
     ]
    }
   ],
   "source": [
    "import math\n",
    "from tabulate import tabulate\n",
    "\n",
    "x=math.degrees(math.pi/3)\n",
    "cosReal=math.cos(math.radians(x))\n",
    "xi=math.degrees(math.pi/4)\n",
    "h=math.pi/12\n",
    "\n",
    "print \"LA FUNCIÓN ORIGINAL ES: f(x) = cos(x)\\nCON x=pi/3, SE TIENE QUE EL VALOR VERDADERO ES: f(pi/3)=%.1f\\n\"%cosReal\n",
    "\n",
    "acumulado=0.0\n",
    "resultAcumulado=[]\n",
    "tabla=[]\n",
    "Et=[]\n",
    "derivadas=[\"cos(x)\", \"-sen(x)\", \"-cos(x)\", \"sen(x)\",\"cos(x)\", \"-sen(x)\", \"-cos(x)\"]\n",
    "\n",
    "for i in range(0,7):\n",
    "    if(i==0 or i==4):\n",
    "        acumulado+=(math.cos(math.radians(xi))*math.pow(h,i))/math.factorial(i)\n",
    "        resultAcumulado.append(acumulado)\n",
    "    if(i==1 or i==5):\n",
    "        acumulado+=-(math.sin(math.radians(xi))*math.pow(h,i))/math.factorial(i)\n",
    "        resultAcumulado.append(acumulado)\n",
    "    if(i==2 or i==6):\n",
    "        acumulado+=-(math.cos(math.radians(xi))*math.pow(h,i))/math.factorial(i)\n",
    "        resultAcumulado.append(acumulado)\n",
    "    if(i==3):\n",
    "        acumulado+=(math.sin(math.radians(xi))*math.pow(h,i))/math.factorial(i)\n",
    "        resultAcumulado.append(acumulado)\n",
    "    Erpv=math.fabs(((cosReal-resultAcumulado[i])/cosReal)*100)\n",
    "    Et.append(Erpv)\n",
    "    tabla.append([i,derivadas[i], resultAcumulado[i], str(Et[i])+\"%\"])\n",
    "print tabulate(tabla, headers=[\"Orden\", \"Derivada n de f(x)\", \"f(pi/3)\", \"Error relativo porcentual verdadero\"],tablefmt=\"fancy_grid\",floatfmt=\".9f\")"
   ]
  },
  {
   "cell_type": "code",
   "execution_count": null,
   "metadata": {
    "collapsed": true
   },
   "outputs": [],
   "source": []
  }
 ],
 "metadata": {
  "kernelspec": {
   "display_name": "Python 2",
   "language": "python",
   "name": "python2"
  },
  "language_info": {
   "codemirror_mode": {
    "name": "ipython",
    "version": 2
   },
   "file_extension": ".py",
   "mimetype": "text/x-python",
   "name": "python",
   "nbconvert_exporter": "python",
   "pygments_lexer": "ipython2",
   "version": "2.7.11"
  }
 },
 "nbformat": 4,
 "nbformat_minor": 0
}
