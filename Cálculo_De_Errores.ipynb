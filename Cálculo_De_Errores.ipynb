{
 "cells": [
  {
   "cell_type": "markdown",
   "metadata": {
    "collapsed": true
   },
   "source": [
    "# Script Paracaidista-Errores"
   ]
  },
  {
   "cell_type": "markdown",
   "metadata": {},
   "source": [
    "Cálculo de velocidad de manera analítica, velocidad por métodos numéricos, error verdadero, error relativo porcentual verdadero, y error aproximado."
   ]
  },
  {
   "cell_type": "code",
   "execution_count": 1,
   "metadata": {
    "collapsed": false
   },
   "outputs": [
    {
     "name": "stdout",
     "output_type": "stream",
     "text": [
      "                             CAIDA LIBRE: PARACAIDISTA               \n",
      "\n",
      "  Tiempo    Velocidad Real    Velocidad Aprox    Err. Verd    Err. Porc     Err. Aprox\n",
      "--------  ----------------  -----------------  -----------  -----------  -------------\n",
      "       0            0                  0        0            0             0\n",
      "       2           16.405             19.6      3.19502     19.4759      100\n",
      "       4           27.7693            32.0047   4.23541     15.2521       38.759\n",
      "       6           35.6418            39.8555   4.21379     11.8226       19.6983\n",
      "       8           41.0953            44.8243   3.729        9.07404      11.0849\n",
      "      10           44.8731            47.969    3.09583      6.89907       6.55566\n",
      "      12           47.4902            49.9592   2.46902      5.19902       3.98374\n",
      "      14           49.3031            51.2188   1.91571      3.88558       2.45928\n",
      "      16           50.559             52.016    1.45703      2.88185       1.5326\n",
      "      18           51.429             52.5206   1.09158      2.12251       0.960656\n",
      "      20           52.0317            52.8399   0.808232     1.55335       0.604318\n",
      "      22           52.4492            53.042    0.592835     1.1303        0.381011\n",
      "      24           52.7384            53.1699   0.431528     0.818243      0.240559\n",
      "      26           52.9387            53.2508   0.31213      0.589607      0.152017\n",
      "      28           53.0775            53.3021   0.224575     0.423108      0.0961178\n",
      "      30           53.1736            53.3345   0.160857     0.302512      0.0607953\n",
      "      32           53.2402            53.355    0.114776     0.215582      0.0384621\n",
      "      34           53.2864            53.368    0.0816269    0.153185      0.0243365\n",
      "      36           53.3183            53.3762   0.0578858    0.108566      0.0154\n",
      "      38           53.3405            53.3814   0.0409476    0.0767664     0.0097456\n",
      "      40           53.3558            53.3847   0.0289025    0.0541694     0.00616754\n",
      "      42           53.3664            53.3868   0.0203615    0.0381541     0.00390324\n",
      "      44           53.3738            53.3881   0.0143201    0.0268299     0.00247027\n",
      "      46           53.3789            53.389    0.0100561    0.0188391     0.00156339\n",
      "      48           53.3824            53.3895   0.00705234   0.013211      0.00098945\n",
      "      50           53.3849            53.3898   0.0049399    0.00925338    0.000626212\n",
      "      52           53.3866            53.39     0.00345654   0.00647455    0.000396323\n"
     ]
    },
    {
     "data": {
      "image/png": "[encoded data removed]",
      "text/plain": [
       "<matplotlib.figure.Figure at 0x9b79c18>"
      ]
     },
     "metadata": {},
     "output_type": "display_data"
    },
    {
     "name": "stdout",
     "output_type": "stream",
     "text": [
      "\n",
      "-VELOCIDAD ANALÍTICA EN ROJO\n",
      "-VELOCIDAD APROXIMADA EN VERDE\n",
      "\n"
     ]
    },
    {
     "data": {
      "image/png": "[encoded data removed]",
      "text/plain": [
       "<matplotlib.figure.Figure at 0xaa78cc0>"
      ]
     },
     "metadata": {},
     "output_type": "display_data"
    },
    {
     "name": "stdout",
     "output_type": "stream",
     "text": [
      "\n",
      "-ERROR VERDADERO EN AZUL\n",
      "-ERROR RELATIVO PORCENTUAL VERDADERO EN MORADO\n",
      "-ERROR APROXIMADO EN AMARILLO\n",
      "\n"
     ]
    }
   ],
   "source": [
    "from tabulate import tabulate \n",
    "import math \n",
    "import matplotlib.pyplot as plt \n",
    "%matplotlib inline\n",
    "\n",
    "g, c, m, vA, Es, vel, Erv, Erpv= 9.8, 12.5, 68.1, 0.0, 0.00005, 0.0, 0.0, 0.0\n",
    "velAn = []\n",
    "velAprx = []\n",
    "tiempo = []\n",
    "Ev = []\n",
    "Epv = []\n",
    "Ea=[]\n",
    "tab=[]\n",
    "t, i,t1, t2, j = 0, 0, 0, 2, 0\n",
    "Eaprox= 100.0 \n",
    "nu=5\n",
    "\n",
    "while(abs(0.5*pow(10,2-nu))<Eaprox ):\n",
    "    #Velocidad analitica\n",
    "    tiempo.append(t)\n",
    "    i=t/2\n",
    "    vA=((g*m)/c)*(1-math.exp(-(c/m)*tiempo[i]))\n",
    "    velAn.append(vA)\n",
    "    #Velocidad Aproximada\n",
    "    if(t==0):\n",
    "        v=0.0\n",
    "        velAprx.append(v)\n",
    "    else: \n",
    "        v = vel +(g-(c/m)*vel)*(t2-t1)\n",
    "        vel=v\n",
    "        t1=t2\n",
    "        t2=t1+2\n",
    "        velAprx.append(v)\n",
    "        \n",
    "    t+=2\n",
    "    #Error verdadero\n",
    "    Erv=math.fabs(velAn[i]-velAprx[i])\n",
    "    Ev.append(Erv)\n",
    "    #Error relativo porcentual verdadero\n",
    "    if velAn[i]==0: \n",
    "        Erpv=0.0\n",
    "        Epv.append(Erpv)\n",
    "    \n",
    "    else:\n",
    "        Erpv=(Ev[i]/velAn[i])*100\n",
    "        Epv.append(Erpv)\n",
    "    \n",
    "    #Error aproximado\n",
    "    if velAn[i]==0:\n",
    "        Eaprox = 0.0\n",
    "        Ea.append(Eaprox)\n",
    "        Eaprox=100.0\n",
    "     \n",
    "    else:\n",
    "        j=i-1\n",
    "        Eaprox=math.fabs(((velAprx[i]-velAprx[j])*100)/velAprx[i])\n",
    "        Ea.append(Eaprox)\n",
    "    \n",
    "    #Mostrando en tablas \n",
    "    tab.append([tiempo[i],velAn[i],velAprx[i],Ev[i],Epv[i],Ea[i]])\n",
    "\n",
    "print \"                             CAIDA LIBRE: PARACAIDISTA               \\n\"\n",
    "print tabulate(tab,headers=[\"Tiempo\",\"Velocidad Real\", \"Velocidad Aprox\",\"Err. Verd\",\"Err. Porc\", \"Err. Aprox\"])\n",
    "\n",
    "plt.title(\"VELOCIDADES\")\n",
    "plt.axis([0,80,0,80])\n",
    "plt.ylabel('Velocidad (m/s)')\n",
    "plt.xlabel('Tiempo (s)')\n",
    "plt.plot([tiempo[0:]],[velAn[0:]], ':ro')\n",
    "plt.plot([tiempo[0:]],[velAprx[0:]], ':go')\n",
    "plt.show()\n",
    "print \"\\n-VELOCIDAD ANALÍTICA EN ROJO\\n-VELOCIDAD APROXIMADA EN VERDE\\n\"\n",
    "\n",
    "plt.title(\"ERRORES\")\n",
    "plt.axis([0,80,0,20])\n",
    "plt.ylabel('Errores')\n",
    "plt.xlabel('Tiempo(s)')\n",
    "plt.plot([tiempo[0:]],[Ev[0:]], 'bo')\n",
    "plt.plot([tiempo[0:]],[Epv[0:]], 'mo')\n",
    "plt.plot([tiempo[0:]], [Ea[0:]], 'yo')\n",
    "plt.show()    \n",
    "print \"\\n-ERROR VERDADERO EN AZUL\\n-ERROR RELATIVO PORCENTUAL VERDADERO EN MORADO\\n-ERROR APROXIMADO EN AMARILLO\\n\""
   ]
  },
  {
   "cell_type": "code",
   "execution_count": null,
   "metadata": {
    "collapsed": true
   },
   "outputs": [],
   "source": []
  }
 ],
 "metadata": {
  "kernelspec": {
   "display_name": "Python 2",
   "language": "python",
   "name": "python2"
  },
  "language_info": {
   "codemirror_mode": {
    "name": "ipython",
    "version": 2
   },
   "file_extension": ".py",
   "mimetype": "text/x-python",
   "name": "python",
   "nbconvert_exporter": "python",
   "pygments_lexer": "ipython2",
   "version": "2.7.11"
  }
 },
 "nbformat": 4,
 "nbformat_minor": 0
}
